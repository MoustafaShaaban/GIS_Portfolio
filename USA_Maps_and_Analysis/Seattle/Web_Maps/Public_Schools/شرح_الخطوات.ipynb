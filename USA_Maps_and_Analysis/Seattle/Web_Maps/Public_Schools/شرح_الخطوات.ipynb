{
 "cells": [
  {
   "cell_type": "code",
   "execution_count": null,
   "id": "301d01fb",
   "metadata": {},
   "outputs": [],
   "source": [
    "#Uncomment the next line of code and run to install the folium library if you didn't install it before \n",
    "#pip install folium"
   ]
  },
  {
   "cell_type": "markdown",
   "id": "66f3febd",
   "metadata": {},
   "source": [
    "# استدعاء المكتبات المستخدمة:\n",
    "\n",
    "* pandas ==> تستخدم فى استدعاء البيانات و المساعدة فى عملية تنظيف البيانات\n",
    "* folium ==> تستخدم فى انشاء خريطة تفاعلية\n",
    "* folium.Marker ==> تستخدم فى وضع علامات تدل على مكان وجود الظاهرات الممثلة على الخريطة\n",
    "* folium.MarkerCluster ==> تستخدم لتجميع العلامات الدالة على الظاهرات فى حالة عرض عدد كبير من الظاهرات"
   ]
  },
  {
   "cell_type": "code",
   "execution_count": null,
   "id": "e9a0ade5",
   "metadata": {},
   "outputs": [],
   "source": [
    "import pandas as pd\n",
    "\n",
    "import folium\n",
    "from folium import Marker\n",
    "from folium.plugins import MarkerCluster"
   ]
  },
  {
   "cell_type": "markdown",
   "id": "9835281d",
   "metadata": {},
   "source": [
    "# استدعاء البيانات:\n",
    "\n",
    "* pd.read_csv() ==> أمر يستخدم عند التعامل مع ملفات بصيغة .csv (Comma Separated Values)"
   ]
  },
  {
   "cell_type": "code",
   "execution_count": null,
   "id": "2d5bc2ce",
   "metadata": {},
   "outputs": [],
   "source": [
    "# تعريف متغير لحفظ مسار ملف بيانات حدود منطقة الدرلسة\n",
    "# Load the data:\n",
    "boundaries_file = './Data/Neighborhood_Map_Atlas_Districts/Neighborhood_Map_Atlas_Districts.geojson'\n",
    "\n",
    "# تعريف متغير لحفظ مسار ملف بيانات المدارس العامة فى منطقة الدراسة\n",
    "public_schools = pd.read_csv('./Data/Public_Schools/Public_Schools.csv')\n",
    "\n",
    "# اختيار بعض الأعمدة من ملف بيانات المدارس العامة و هر اسم المدرسة و العنوان و الاحداثيات الجغرافية\n",
    "# Use only a subset of the data (School name, School Address, and Coordinates)\n",
    "public_schools = public_schools[\n",
    "    ['NAME','ADDRESS', 'Y', 'X']\n",
    "]\n",
    "\n",
    "# عرض أول 5 سطور من البيانات للتأكد من اختيار الأعمدة المطلوبة\n",
    "# Uncomment the next line to show the first 5 rows of the data to make sure you selected the right subset:\n",
    "#public_schools.head()"
   ]
  },
  {
   "cell_type": "markdown",
   "id": "5675af1e",
   "metadata": {},
   "source": [
    "# تنظيف البيانات: \n",
    "* dropna() ==> تستعمل لحذف البيانات الغير مكتملة\n",
    "* drop(na) ==> Not Available"
   ]
  },
  {
   "cell_type": "code",
   "execution_count": null,
   "id": "aec11c96",
   "metadata": {},
   "outputs": [],
   "source": [
    "# Clean the data:\n",
    "\n",
    "# تعريف متغير لحفظ نتيجة الاستعلام عن البيانات المفقودة\n",
    "# Get the number of missing data points per row:\n",
    "missing_data_counts = public_schools.isnull().sum()\n",
    "\n",
    "# طباعة نتيجة المتغير -- يوجد سطر واحد به بيانات مفقودة\n",
    "# missing_data_counts       # Will show that there is 1 row with a missing value\n",
    "\n",
    "# حذف السطر غير مكتمل البيانات\n",
    "# Drop the row with missing data:\n",
    "public_schools.dropna()"
   ]
  },
  {
   "cell_type": "markdown",
   "id": "891b37b9",
   "metadata": {},
   "source": [
    "# انشاء خريطة أساس:"
   ]
  },
  {
   "cell_type": "code",
   "execution_count": null,
   "id": "725e731d",
   "metadata": {},
   "outputs": [],
   "source": [
    "# Create a basemap:\n",
    "# تعريف متغير لحفظ خريطة الأساس\n",
    "map = folium.Map(\n",
    "    #اختيار احداثيات موقع عرض الخريطة\n",
    "    location = [47.6062,-122.3320],\n",
    "    # اختيار خريطة الأساس المستخدمة\n",
    "    tiles = 'cartodbpositron',\n",
    "    # اختيار نسبة التقريب للخريطة\n",
    "    zoom_start = 11,\n",
    "    # عنوان خريطة الأساس\n",
    "    attr= 'Public Schools in Seattle'\n",
    ")"
   ]
  },
  {
   "cell_type": "markdown",
   "id": "9eebadcf",
   "metadata": {},
   "source": [
    "# عرض البيانات على خريطة الأساس:"
   ]
  },
  {
   "cell_type": "code",
   "execution_count": null,
   "id": "21639831",
   "metadata": {},
   "outputs": [],
   "source": [
    "# تعريف متغير لحفظ مسار ملف بيانات حدود منطقة الدراسة و اسم الطبقة الناتجة\n",
    "# Add the boundaries .geojson file:\n",
    "boundaries = folium.GeoJson(\n",
    "    boundaries_file,\n",
    "    name = 'Boundaries'\n",
    ").add_to(map)\n",
    "\n",
    "\n",
    "# تعريف متغير لحفظ الكلاس المتسخدم فى عرض البيانات\n",
    "# Create a marker cluster (used when we have to show alot of data on the map)\n",
    "marker_cluster = MarkerCluster()\n",
    "\n",
    "#  انشاء عملية تكرار للحصول على البيانات الخاصة بكل سطر فى ملف البيانات\n",
    "# Loop through each row in the data (each row in a .csv file using pandas 'iterrows()' function):\n",
    "# لكل رمز تعريفي و لكل سطر موجود بداخل ملف البيانات\n",
    "for id, row in public_schools.iterrows():\n",
    "    # وضع البيانات الخاصة بكل سطر فى علامة خاصة بها\n",
    "    marker_cluster.add_child(Marker(\n",
    "        # وضع العلامة بناءا على احداثياتها الجغرافية\n",
    "        [row['Y'], row['X']],\n",
    "        # وضع وصف لكل علامة يحتوى على اسم و عنوان كل مدرسة موجودة فى ملف البيانات\n",
    "        tooltip = (\"School name: \" + str(row['NAME']), \"Address: \" + str(row['ADDRESS']))\n",
    "    ))\n",
    "    \n",
    "\n",
    "# اضافة الكلاس الى خريطة الأساس\n",
    "map.add_child(marker_cluster)\n",
    "\n",
    "# عرض الخريطة النهائية\n",
    "# Display the map\n",
    "map"
   ]
  },
  {
   "cell_type": "markdown",
   "id": "1ec948e0",
   "metadata": {},
   "source": [
    "# حفظ الخريطة فى ملف html"
   ]
  },
  {
   "cell_type": "code",
   "execution_count": null,
   "id": "3a343b7a",
   "metadata": {},
   "outputs": [],
   "source": [
    "# Save the map to an .html file:\n",
    "map.save('index.html')"
   ]
  }
 ],
 "metadata": {
  "interpreter": {
   "hash": "07162621caf2d65c82c202b00c2376f0995bc5d2ca0fa0188f0ac558cd5e0180"
  },
  "kernelspec": {
   "display_name": "Python 3.9.7 ('base')",
   "language": "python",
   "name": "python3"
  },
  "language_info": {
   "codemirror_mode": {
    "name": "ipython",
    "version": 3
   },
   "file_extension": ".py",
   "mimetype": "text/x-python",
   "name": "python",
   "nbconvert_exporter": "python",
   "pygments_lexer": "ipython3",
   "version": "3.9.7"
  }
 },
 "nbformat": 4,
 "nbformat_minor": 5
}
