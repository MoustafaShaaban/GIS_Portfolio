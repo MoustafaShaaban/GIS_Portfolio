{
 "cells": [
  {
   "cell_type": "code",
   "execution_count": null,
   "id": "301d01fb",
   "metadata": {},
   "outputs": [],
   "source": [
    "#Uncomment the next line of code and run to install the folium library if you didn't install it before \n",
    "#pip install folium"
   ]
  },
  {
   "cell_type": "code",
   "execution_count": null,
   "id": "e9a0ade5",
   "metadata": {},
   "outputs": [],
   "source": [
    "import pandas as pd\n",
    "\n",
    "import folium\n",
    "from folium import Marker\n",
    "from folium.plugins import MarkerCluster"
   ]
  },
  {
   "cell_type": "code",
   "execution_count": null,
   "id": "2d5bc2ce",
   "metadata": {},
   "outputs": [],
   "source": [
    "# Load the data:\n",
    "boundaries_file = './Data/Neighborhood_Map_Atlas_Districts/Neighborhood_Map_Atlas_Districts.geojson'\n",
    "\n",
    "public_schools = pd.read_csv('./Data/Public_Schools/Public_Schools.csv')\n",
    "\n",
    "# Use only a subset of the data (School name, School Address, and Coordinates)\n",
    "public_schools = public_schools[\n",
    "    ['NAME','ADDRESS', 'Y', 'X']\n",
    "]\n",
    "\n",
    "# Uncomment the next line to show the first 5 rows of the data to make sure you selected the right subset:\n",
    "#public_schools.head()"
   ]
  },
  {
   "cell_type": "code",
   "execution_count": null,
   "id": "aec11c96",
   "metadata": {},
   "outputs": [],
   "source": [
    "# Clean the data:\n",
    "\n",
    "# Get the number of missing data points per row:\n",
    "missing_data_counts = public_schools.isnull().sum()\n",
    "\n",
    "# missing_data_counts       # Will show that there is 1 row with a missing value\n",
    "\n",
    "# Drop the row with missing data:\n",
    "public_schools.dropna()"
   ]
  },
  {
   "cell_type": "code",
   "execution_count": null,
   "id": "725e731d",
   "metadata": {},
   "outputs": [],
   "source": [
    "# Create a basemap:\n",
    "map = folium.Map(\n",
    "    location = [47.6062,-122.3320],\n",
    "    tiles = 'cartodbpositron',\n",
    "    zoom_start = 11,\n",
    "    attr= 'Public Schools in Seattle'\n",
    ")"
   ]
  },
  {
   "cell_type": "code",
   "execution_count": null,
   "id": "21639831",
   "metadata": {},
   "outputs": [],
   "source": [
    "# Add the boundaries .geojson file:\n",
    "boundaries = folium.GeoJson(\n",
    "    boundaries_file,\n",
    "    name = 'Boundaries'\n",
    ").add_to(map)\n",
    "\n",
    "\n",
    "# Create a marker cluster (used when we have to show alot of data on the map)\n",
    "marker_cluster = MarkerCluster()\n",
    "\n",
    "# Loop through each row in the data (each row in a .csv file using pandas 'iterrows()' function):\n",
    "for id, row in public_schools.iterrows():\n",
    "    marker_cluster.add_child(Marker(\n",
    "        [row['Y'], row['X']],\n",
    "        tooltip = (\"School name: \" + str(row['NAME']), \"Address: \" + str(row['ADDRESS']))\n",
    "    ))\n",
    "    \n",
    "\n",
    "map.add_child(marker_cluster)\n",
    "\n",
    "# Display the map\n",
    "map"
   ]
  },
  {
   "cell_type": "code",
   "execution_count": null,
   "id": "3a343b7a",
   "metadata": {},
   "outputs": [],
   "source": [
    "# Save the map to an .html file:\n",
    "map.save('index.html')"
   ]
  }
 ],
 "metadata": {
  "kernelspec": {
   "display_name": "Python 3 (ipykernel)",
   "language": "python",
   "name": "python3"
  },
  "language_info": {
   "codemirror_mode": {
    "name": "ipython",
    "version": 3
   },
   "file_extension": ".py",
   "mimetype": "text/x-python",
   "name": "python",
   "nbconvert_exporter": "python",
   "pygments_lexer": "ipython3",
   "version": "3.7.11"
  }
 },
 "nbformat": 4,
 "nbformat_minor": 5
}
